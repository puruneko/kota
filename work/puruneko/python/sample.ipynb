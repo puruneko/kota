{
 "cells": [
  {
   "cell_type": "markdown",
   "metadata": {},
   "source": [
    "## 代入"
   ]
  },
  {
   "cell_type": "code",
   "execution_count": 1,
   "metadata": {},
   "outputs": [],
   "source": [
    "a = 1\n",
    "b = 'x'"
   ]
  },
  {
   "cell_type": "markdown",
   "metadata": {},
   "source": [
    "## 配列"
   ]
  },
  {
   "cell_type": "code",
   "execution_count": 2,
   "metadata": {},
   "outputs": [
    {
     "name": "stdout",
     "output_type": "stream",
     "text": [
      "[1, '2', 3]\n",
      "1\n"
     ]
    }
   ],
   "source": [
    "x = [1,\"2\"]\n",
    "x.append(3)\n",
    "print(x)\n",
    "print(x[0])"
   ]
  },
  {
   "cell_type": "markdown",
   "metadata": {},
   "source": [
    "## if"
   ]
  },
  {
   "cell_type": "code",
   "execution_count": 3,
   "metadata": {},
   "outputs": [
    {
     "name": "stdout",
     "output_type": "stream",
     "text": [
      "other\n"
     ]
    }
   ],
   "source": [
    "a = 1\n",
    "if a == 2:\n",
    "    print(\"a == 2\")\n",
    "elif a == 3:\n",
    "    print(\"a == 3\")\n",
    "else:\n",
    "    print(\"other\")"
   ]
  },
  {
   "cell_type": "markdown",
   "metadata": {},
   "source": [
    "## for"
   ]
  },
  {
   "cell_type": "code",
   "execution_count": 4,
   "metadata": {},
   "outputs": [
    {
     "name": "stdout",
     "output_type": "stream",
     "text": [
      "5\n",
      "6\n",
      "7\n",
      "8\n"
     ]
    }
   ],
   "source": [
    "a = [5,6,7,8]\n",
    "for x in a:\n",
    "    print(x)"
   ]
  },
  {
   "cell_type": "markdown",
   "metadata": {},
   "source": [
    "## リストの内包表現"
   ]
  },
  {
   "cell_type": "code",
   "execution_count": 5,
   "metadata": {},
   "outputs": [
    {
     "name": "stdout",
     "output_type": "stream",
     "text": [
      "[1, 2, 3, 4]\n",
      "[2, 4, 6, 8]\n"
     ]
    }
   ],
   "source": [
    "a = [1,2,3,4]\n",
    "b = [x*2 for x in a]\n",
    "print(a)\n",
    "print(b)"
   ]
  },
  {
   "cell_type": "markdown",
   "metadata": {},
   "source": [
    "## 辞書"
   ]
  },
  {
   "cell_type": "code",
   "execution_count": 6,
   "metadata": {},
   "outputs": [
    {
     "name": "stdout",
     "output_type": "stream",
     "text": [
      "1\n",
      "5\n"
     ]
    }
   ],
   "source": [
    "a = {\"one\":1, \"two\":2, \"three\":3}\n",
    "print(a[\"one\"])\n",
    "print(a[\"two\"] + a[\"three\"])"
   ]
  },
  {
   "cell_type": "markdown",
   "metadata": {},
   "source": [
    "## 辞書の内包表現"
   ]
  },
  {
   "cell_type": "code",
   "execution_count": 7,
   "metadata": {},
   "outputs": [
    {
     "name": "stdout",
     "output_type": "stream",
     "text": [
      "[1, 2, 3, 4]\n",
      "['one', 'two', 'three', 'four']\n",
      "{'one': 1, 'two': 2, 'three': 3, 'four': 4}\n"
     ]
    }
   ],
   "source": [
    "a = [1,2,3,4]\n",
    "b = [\"one\",\"two\",\"three\",\"four\"]\n",
    "c = {key:value for value,key in zip(a,b)}\n",
    "print(a)\n",
    "print(b)\n",
    "print(c)"
   ]
  },
  {
   "cell_type": "markdown",
   "metadata": {},
   "source": [
    "## 関数"
   ]
  },
  {
   "cell_type": "code",
   "execution_count": 8,
   "metadata": {},
   "outputs": [
    {
     "name": "stdout",
     "output_type": "stream",
     "text": [
      "100\n",
      "25\n"
     ]
    }
   ],
   "source": [
    "def func1(a):\n",
    "    return a**2\n",
    "print(func1(10))\n",
    "\n",
    "def func2(a=5):\n",
    "    return a**2\n",
    "print(func2())"
   ]
  },
  {
   "cell_type": "markdown",
   "metadata": {},
   "source": [
    "## よく使う組み込み関数\n",
    "print, range, len, zip, int, float, fString, rawString"
   ]
  },
  {
   "cell_type": "code",
   "execution_count": 9,
   "metadata": {},
   "outputs": [
    {
     "name": "stdout",
     "output_type": "stream",
     "text": [
      "----\n",
      "10 11 12\n",
      "----\n",
      "0\n",
      "1\n",
      "2\n",
      "3\n",
      "4\n",
      "5\n",
      "6\n",
      "7\n",
      "8\n",
      "9\n",
      "----\n",
      "4\n",
      "----\n",
      "0 10\n",
      "1 11\n",
      "2 12\n",
      "3 13\n",
      "4 14\n",
      "5 15\n",
      "6 16\n",
      "7 17\n",
      "8 18\n",
      "9 19\n",
      "----\n",
      "10\n",
      "5.0\n",
      "----\n",
      "variable a is [5, 6, 7, 8].\n",
      "----\n",
      "new line is \n",
      ".\n",
      "new line is \\n.\n",
      "D:\\document\\git\\github\\kota\\work\\puruneko\\python\n"
     ]
    }
   ],
   "source": [
    "print(\"----\")\n",
    "print(\"10\", \"11\", \"12\")\n",
    "\n",
    "print(\"----\")\n",
    "for i in range(10):\n",
    "    print(i)\n",
    "\n",
    "print(\"----\")\n",
    "a = [5,6,7,8]\n",
    "print(len(a))\n",
    "\n",
    "print(\"----\")\n",
    "for i,j in zip(range(0,10), range(10,20)):\n",
    "    print(i, j)\n",
    "\n",
    "print(\"----\")\n",
    "print(int(\"10\"))\n",
    "print(float(5))\n",
    "\n",
    "print(\"----\")\n",
    "print(f'variable a is {a}.')\n",
    "\n",
    "print(\"----\")\n",
    "print('new line is \\n.')\n",
    "print(r'new line is \\n.')\n",
    "print(r'D:\\document\\git\\github\\kota\\work\\puruneko\\python')"
   ]
  },
  {
   "cell_type": "markdown",
   "metadata": {},
   "source": [
    "## オブジェクト指向とクラス\n",
    "関連のあるデータと機能をひとまとめにしたもの\n",
    "\n",
    "* クラス：データと機能をどのようにひとまとめにするか記述したもの（＝ひな形）\n",
    "* インスタンス：クラスに対して具体的に値を入れて（初期化して）実際に使えるようにしたもの（＝実態）\n",
    "\n",
    "Personクラス\n",
    "* 名前と年齢を入れると、いろんな情報を返してくれる"
   ]
  },
  {
   "cell_type": "code",
   "execution_count": 10,
   "metadata": {},
   "outputs": [
    {
     "name": "stdout",
     "output_type": "stream",
     "text": [
      "氏名：有田龍太郎\n",
      "年齢：30歳(大人)\n"
     ]
    }
   ],
   "source": [
    "class PersonClass():\n",
    "    def __init__(self, name, age):\n",
    "        self.name = name\n",
    "        self.age = age\n",
    "    \n",
    "    def age_details(self):\n",
    "        if self.age < 3:\n",
    "            return \"赤ちゃん\"\n",
    "        elif self.age < 6:\n",
    "            return \"幼稚園児\"\n",
    "        elif self.age < 13:\n",
    "            return \"小学生\"\n",
    "        elif self.age < 16:\n",
    "            return \"中学生\"\n",
    "        elif self.age < 19:\n",
    "            return \"高校生\"\n",
    "        elif self.age < 23:\n",
    "            return \"大学生\"\n",
    "        else:\n",
    "            return \"大人\"\n",
    "    \n",
    "    def description(self):\n",
    "        result = \"\"\n",
    "        result += f\"氏名：{self.name}\\n\"\n",
    "        result += f\"年齢：{self.age}歳({self.age_details()})\"\n",
    "        return result\n",
    "\n",
    "person_instance = PersonClass(\"有田龍太郎\", 30)\n",
    "print(person_instance.description())"
   ]
  },
  {
   "cell_type": "code",
   "execution_count": null,
   "metadata": {},
   "outputs": [],
   "source": []
  }
 ],
 "metadata": {
  "kernelspec": {
   "display_name": "Python 3",
   "language": "python",
   "name": "python3"
  },
  "language_info": {
   "codemirror_mode": {
    "name": "ipython",
    "version": 3
   },
   "file_extension": ".py",
   "mimetype": "text/x-python",
   "name": "python",
   "nbconvert_exporter": "python",
   "pygments_lexer": "ipython3",
   "version": "3.7.3"
  }
 },
 "nbformat": 4,
 "nbformat_minor": 4
}
